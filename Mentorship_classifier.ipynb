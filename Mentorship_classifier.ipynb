{
 "cells": [
  {
   "cell_type": "code",
   "execution_count": 22,
   "metadata": {},
   "outputs": [],
   "source": [
    "import numpy as np\n",
    "import pandas as pd\n",
    "from sklearn.feature_extraction.text import TfidfVectorizer\n",
    "from sklearn.ensemble import RandomForestClassifier, VotingClassifier, GradientBoostingClassifier\n",
    "from sklearn.svm import SVC\n",
    "from sklearn.model_selection import train_test_split\n",
    "from sklearn.metrics import confusion_matrix\n",
    "from sklearn.metrics import f1_score\n",
    "from sklearn.model_selection import GridSearchCV\n",
    "from transformers import BertTokenizer"
   ]
  },
  {
   "cell_type": "code",
   "execution_count": 20,
   "metadata": {},
   "outputs": [],
   "source": [
    "exem = pd.DataFrame(pd.read_csv('exemplary_comments.csv')['comment_body'])\n",
    "aver = pd.DataFrame(pd.read_csv('average_comments.csv')['comment_body'])\n",
    "exem['target'] = 1\n",
    "aver['target'] = 0\n",
    "all = pd.concat([exem, aver])"
   ]
  },
  {
   "cell_type": "code",
   "execution_count": 32,
   "metadata": {},
   "outputs": [],
   "source": [
    "text = all['comment_body']\n",
    "y = all['target']"
   ]
  },
  {
   "cell_type": "code",
   "execution_count": 30,
   "metadata": {},
   "outputs": [],
   "source": [
    "tokenizer = BertTokenizer.from_pretrained('bert-base-uncased')\n",
    "tagged = []\n",
    "X = []\n",
    "max_len = 0\n",
    "\n",
    "for item in text:\n",
    "    tagged.append('[CLS] ' + item.strip() + ' [SEP]')\n",
    "\n",
    "for item in tagged:\n",
    "    tokenized_text = tokenizer.tokenize(item) \n",
    "    if len(tokenized_text) > max_len:\n",
    "        max_len = len(tokenized_text)\n",
    "    indexed_tokens = tokenizer.convert_tokens_to_ids(tokenized_text)\n",
    "    X.append(indexed_tokens)\n",
    "\n",
    "for j in range(len(X)):\n",
    "    padding = [0] * (max_len - len(X[j]))\n",
    "    X[j] += padding\n",
    "    \n",
    "X = pd.DataFrame(X).iloc[:,:50]"
   ]
  },
  {
   "cell_type": "code",
   "execution_count": 34,
   "metadata": {},
   "outputs": [],
   "source": [
    "### Grid Search ###\n",
    "def gridSearch(model, param):\n",
    "    X_train, X_test, y_train, y_test = train_test_split(X, y, test_size=0.2, random_state=42) # make train test dataset\n",
    "    gscv = GridSearchCV(model, param, scoring='f1', n_jobs=-1) # use cross validation to search the best parameters\n",
    "    gscv.fit(X_train, y_train)\n",
    "    y_predict = gscv.predict(X_test) # predict the result\n",
    "    cm = confusion_matrix(y_test, y_predict) # get the confusion matrics\n",
    "    print('Confusion Matrix:\\n', cm, '\\n', 'best parameters:', gscv.best_params_)"
   ]
  },
  {
   "cell_type": "code",
   "execution_count": 38,
   "metadata": {},
   "outputs": [
    {
     "name": "stdout",
     "output_type": "stream",
     "text": [
      "Confusion Matrix:\n",
      " [[186  62]\n",
      " [ 44 252]] \n",
      " best parameters: {'min_samples_split': 6, 'n_estimators': 70}\n"
     ]
    }
   ],
   "source": [
    "rf = RandomForestClassifier()    # create random forest model\n",
    "rf_param = {'min_samples_split': range(2,7,2),       # parameters for grid search\n",
    "              'n_estimators': range(50,151,20)}\n",
    "\n",
    "gridSearch(rf, rf_param)"
   ]
  },
  {
   "cell_type": "code",
   "execution_count": 37,
   "metadata": {},
   "outputs": [
    {
     "name": "stdout",
     "output_type": "stream",
     "text": [
      "Confusion Matrix:\n",
      " [[189  59]\n",
      " [ 47 249]] \n",
      " best parameters: {'min_samples_split': 2, 'n_estimators': 70}\n"
     ]
    }
   ],
   "source": [
    "gb = GradientBoostingClassifier()    # create gradient boosting model\n",
    "gb_param = {'min_samples_split': range(2,7,2),   # parameters for grid search\n",
    "              'n_estimators': range(50,151,20)}\n",
    "\n",
    "gridSearch(gb, gb_param)"
   ]
  },
  {
   "cell_type": "code",
   "execution_count": 39,
   "metadata": {},
   "outputs": [],
   "source": [
    "### Use best parameters found on the grid search to build models ###\n",
    "svc = SVC(gamma='auto')\n",
    "rf = RandomForestClassifier(min_samples_split=6, n_estimators=70)\n",
    "gb = GradientBoostingClassifier(min_samples_split=2, n_estimators=70)\n",
    "voting = VotingClassifier(estimators=[('rf', rf), ('gb', gb), ('svc', svc)], voting='hard')"
   ]
  },
  {
   "cell_type": "code",
   "execution_count": 41,
   "metadata": {},
   "outputs": [
    {
     "name": "stdout",
     "output_type": "stream",
     "text": [
      "Confusion Matrix:\n",
      " [[182  66]\n",
      " [ 41 255]]\n"
     ]
    }
   ],
   "source": [
    "X_train, X_test, y_train, y_test = train_test_split(X, y, test_size=0.2, random_state=42)\n",
    "voting = VotingClassifier(estimators=[('rf', rf), ('gb', gb), ('svc', svc)], voting='hard')\n",
    "voting.fit(X_train, y_train)\n",
    "y_pred = voting.predict(X_test)\n",
    "cm = confusion_matrix(y_test, y_pred)\n",
    "print('Confusion Matrix:\\n', cm)"
   ]
  },
  {
   "cell_type": "code",
   "execution_count": null,
   "metadata": {},
   "outputs": [],
   "source": []
  }
 ],
 "metadata": {
  "kernelspec": {
   "display_name": "Python 3",
   "language": "python",
   "name": "python3"
  },
  "language_info": {
   "codemirror_mode": {
    "name": "ipython",
    "version": 3
   },
   "file_extension": ".py",
   "mimetype": "text/x-python",
   "name": "python",
   "nbconvert_exporter": "python",
   "pygments_lexer": "ipython3",
   "version": "3.8.5"
  }
 },
 "nbformat": 4,
 "nbformat_minor": 4
}
