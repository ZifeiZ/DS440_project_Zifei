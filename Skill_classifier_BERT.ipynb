{
 "cells": [
  {
   "cell_type": "code",
   "execution_count": 4,
   "metadata": {},
   "outputs": [],
   "source": [
    "import numpy as np\n",
    "import pandas as pd\n",
    "from sklearn.feature_extraction.text import TfidfVectorizer\n",
    "from sklearn.ensemble import RandomForestClassifier, VotingClassifier, GradientBoostingClassifier\n",
    "from sklearn.svm import SVC\n",
    "from sklearn.model_selection import train_test_split\n",
    "from sklearn.metrics import confusion_matrix\n",
    "from sklearn.metrics import f1_score\n",
    "from sklearn.model_selection import GridSearchCV\n",
    "from transformers import BertTokenizer"
   ]
  },
  {
   "cell_type": "code",
   "execution_count": 2,
   "metadata": {},
   "outputs": [],
   "source": [
    "### Data Pre-processing ###\n",
    "data = pd.read_csv('random_f_data.csv').dropna().reindex() # there are five rows with na value on the text column, drop it out.\n",
    "text = data['expDescription'] # get the text data\n",
    "data.drop(['Unnamed: 0', 'ownerID','school', 'expDescription'],axis=1,inplace=True) # remove unrelated columns\n",
    "skills = ['4', '8', '10', '11', '19'] # create a list of all skills we want to predict for later use"
   ]
  },
  {
   "cell_type": "code",
   "execution_count": 24,
   "metadata": {},
   "outputs": [],
   "source": [
    "tokenizer = BertTokenizer.from_pretrained('bert-base-uncased')\n",
    "tagged = []\n",
    "X = []\n",
    "max_len = 0\n",
    "\n",
    "for item in text:\n",
    "    tagged.append('[CLS] ' + item.strip() + ' [SEP]')\n",
    "\n",
    "for item in tagged:\n",
    "    tokenized_text = tokenizer.tokenize(item) \n",
    "    if len(tokenized_text) > max_len:\n",
    "        max_len = len(tokenized_text)\n",
    "    indexed_tokens = tokenizer.convert_tokens_to_ids(tokenized_text)\n",
    "    X.append(indexed_tokens)\n",
    "\n",
    "for j in range(len(X)):\n",
    "    padding = [0] * (max_len - len(X[j]))\n",
    "    X[j] += padding\n",
    "    \n",
    "X = pd.DataFrame(X).iloc[:,:130]"
   ]
  },
  {
   "cell_type": "code",
   "execution_count": 25,
   "metadata": {},
   "outputs": [],
   "source": [
    "### Grid Search ###\n",
    "def gridSearch(skillID, model, param):\n",
    "    y = data[str(skillID)]  # get the target column\n",
    "    X_train, X_test, y_train, y_test = train_test_split(X, y, test_size=0.2, random_state=42) # make train test dataset\n",
    "    gscv = GridSearchCV(model, param, scoring='f1', n_jobs=-1) # use cross validation to search the best parameters\n",
    "    gscv.fit(X_train, y_train)\n",
    "    y_predict = gscv.predict(X_test) # predict the result\n",
    "    cm = confusion_matrix(y_test, y_predict) # get the confusion matrics\n",
    "    print('For skill', str(skillID), '\\n', 'Confusion Matrix:\\n', cm, '\\n', 'best parameters:', gscv.best_params_)"
   ]
  },
  {
   "cell_type": "code",
   "execution_count": 26,
   "metadata": {},
   "outputs": [
    {
     "name": "stdout",
     "output_type": "stream",
     "text": [
      "For skill 4 \n",
      " Confusion Matrix:\n",
      " [[590  72]\n",
      " [283  43]] \n",
      " best parameters: {'min_samples_split': 6, 'n_estimators': 50}\n",
      "For skill 8 \n",
      " Confusion Matrix:\n",
      " [[628  51]\n",
      " [275  34]] \n",
      " best parameters: {'min_samples_split': 6, 'n_estimators': 50}\n",
      "For skill 10 \n",
      " Confusion Matrix:\n",
      " [[758  11]\n",
      " [209  10]] \n",
      " best parameters: {'min_samples_split': 4, 'n_estimators': 50}\n",
      "For skill 11 \n",
      " Confusion Matrix:\n",
      " [[488 111]\n",
      " [298  91]] \n",
      " best parameters: {'min_samples_split': 6, 'n_estimators': 70}\n",
      "For skill 19 \n",
      " Confusion Matrix:\n",
      " [[526  93]\n",
      " [311  58]] \n",
      " best parameters: {'min_samples_split': 6, 'n_estimators': 90}\n"
     ]
    }
   ],
   "source": [
    "rf = RandomForestClassifier(class_weight={0:0.1, 1:0.9})    # create random forest model\n",
    "rf_param = {'min_samples_split': range(2,7,2),       # parameters for grid search\n",
    "              'n_estimators': range(50,151,20)}\n",
    "\n",
    "for skill in skills:\n",
    "    gridSearch(skill, rf, rf_param)"
   ]
  },
  {
   "cell_type": "code",
   "execution_count": 27,
   "metadata": {},
   "outputs": [
    {
     "name": "stdout",
     "output_type": "stream",
     "text": [
      "For skill 4 \n",
      " Confusion Matrix:\n",
      " [[627  35]\n",
      " [301  25]] \n",
      " best parameters: {'min_samples_split': 4, 'n_estimators': 150}\n",
      "For skill 8 \n",
      " Confusion Matrix:\n",
      " [[660  19]\n",
      " [301   8]] \n",
      " best parameters: {'min_samples_split': 2, 'n_estimators': 150}\n",
      "For skill 10 \n",
      " Confusion Matrix:\n",
      " [[752  17]\n",
      " [212   7]] \n",
      " best parameters: {'min_samples_split': 6, 'n_estimators': 150}\n",
      "For skill 11 \n",
      " Confusion Matrix:\n",
      " [[529  70]\n",
      " [332  57]] \n",
      " best parameters: {'min_samples_split': 2, 'n_estimators': 150}\n",
      "For skill 19 \n",
      " Confusion Matrix:\n",
      " [[578  41]\n",
      " [341  28]] \n",
      " best parameters: {'min_samples_split': 2, 'n_estimators': 150}\n"
     ]
    }
   ],
   "source": [
    "gb = GradientBoostingClassifier()    # create gradient boosting model\n",
    "gb_param = {'min_samples_split': range(2,7,2),   # parameters for grid search\n",
    "              'n_estimators': range(50,151,20)}\n",
    "\n",
    "for skill in skills:\n",
    "    gridSearch(skill, gb, gb_param)"
   ]
  },
  {
   "cell_type": "code",
   "execution_count": 30,
   "metadata": {},
   "outputs": [],
   "source": [
    "### Use best parameters found on the grid search to build models ###\n",
    "svc = SVC(gamma='auto')\n",
    "rf = RandomForestClassifier(class_weight={0:0.1, 1:0.9}, min_samples_split=6, n_estimators=50)\n",
    "gb = GradientBoostingClassifier(min_samples_split=4, n_estimators=150)\n",
    "voting = VotingClassifier(estimators=[('rf', rf), ('gb', gb), ('svc', svc)], voting='hard')"
   ]
  },
  {
   "cell_type": "code",
   "execution_count": null,
   "metadata": {},
   "outputs": [],
   "source": [
    "### train and run the voting classifier, get the confusion matrics ###\n",
    "for skill in skills:\n",
    "    y = data[skill]\n",
    "    X_train, X_test, y_train, y_test = train_test_split(X, y, test_size=0.2, random_state=42)\n",
    "    voting = VotingClassifier(estimators=[('rf', rf), ('gb', gb), ('svc', svc)], voting='hard')\n",
    "    voting.fit(X_train, y_train)\n",
    "    y_pred = voting.predict(X_test)\n",
    "    cm = confusion_matrix(y_test, y_pred)\n",
    "    print('For skill', skill, '\\n', 'Confusion Matrix:\\n', cm)"
   ]
  },
  {
   "cell_type": "code",
   "execution_count": null,
   "metadata": {},
   "outputs": [],
   "source": []
  }
 ],
 "metadata": {
  "kernelspec": {
   "display_name": "Python 3",
   "language": "python",
   "name": "python3"
  },
  "language_info": {
   "codemirror_mode": {
    "name": "ipython",
    "version": 3
   },
   "file_extension": ".py",
   "mimetype": "text/x-python",
   "name": "python",
   "nbconvert_exporter": "python",
   "pygments_lexer": "ipython3",
   "version": "3.8.5"
  }
 },
 "nbformat": 4,
 "nbformat_minor": 4
}
